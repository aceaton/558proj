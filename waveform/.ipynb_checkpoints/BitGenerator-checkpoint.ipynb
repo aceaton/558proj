{
 "cells": [
  {
   "cell_type": "code",
   "execution_count": 1,
   "id": "a5bbfa65",
   "metadata": {},
   "outputs": [],
   "source": [
    "import pickle\n",
    "import random\n",
    "import numpy as np"
   ]
  },
  {
   "cell_type": "code",
   "execution_count": 2,
   "id": "c2de1834",
   "metadata": {},
   "outputs": [],
   "source": [
    "NUM_BITS = 2**12 # More than could use in most cases"
   ]
  },
  {
   "cell_type": "code",
   "execution_count": 3,
   "id": "e89a6652",
   "metadata": {},
   "outputs": [],
   "source": [
    "bits = np.empty([2, NUM_BITS])"
   ]
  },
  {
   "cell_type": "code",
   "execution_count": 4,
   "id": "2557bb39",
   "metadata": {},
   "outputs": [],
   "source": [
    "def fill_random_bits(array):\n",
    "    length = len(array)\n",
    "    number = random.getrandbits(length)\n",
    "    for i in range(length):\n",
    "        array[i] = int(number & 0x1)\n",
    "        number >>= 1"
   ]
  },
  {
   "cell_type": "code",
   "execution_count": 5,
   "id": "77f8612f",
   "metadata": {},
   "outputs": [
    {
     "ename": "TypeError",
     "evalue": "object of type 'numpy.int64' has no len()",
     "output_type": "error",
     "traceback": [
      "\u001b[0;31m---------------------------------------------------------------------------\u001b[0m",
      "\u001b[0;31mTypeError\u001b[0m                                 Traceback (most recent call last)",
      "Input \u001b[0;32mIn [5]\u001b[0m, in \u001b[0;36m<cell line: 1>\u001b[0;34m()\u001b[0m\n\u001b[0;32m----> 1\u001b[0m \u001b[43mfill_random_bits\u001b[49m\u001b[43m(\u001b[49m\u001b[43mbits\u001b[49m\u001b[43m[\u001b[49m\u001b[38;5;241;43m0\u001b[39;49m\u001b[43m]\u001b[49m\u001b[43m)\u001b[49m\n\u001b[1;32m      2\u001b[0m fill_random_bits(bits[\u001b[38;5;241m1\u001b[39m])\n",
      "Input \u001b[0;32mIn [4]\u001b[0m, in \u001b[0;36mfill_random_bits\u001b[0;34m(array)\u001b[0m\n\u001b[1;32m      1\u001b[0m \u001b[38;5;28;01mdef\u001b[39;00m \u001b[38;5;21mfill_random_bits\u001b[39m(array):\n\u001b[0;32m----> 2\u001b[0m     length \u001b[38;5;241m=\u001b[39m \u001b[38;5;28;43mlen\u001b[39;49m\u001b[43m(\u001b[49m\u001b[43marray\u001b[49m\u001b[43m)\u001b[49m\n\u001b[1;32m      3\u001b[0m     number \u001b[38;5;241m=\u001b[39m random\u001b[38;5;241m.\u001b[39mgetrandbits(length)\n\u001b[1;32m      4\u001b[0m     \u001b[38;5;28;01mfor\u001b[39;00m i \u001b[38;5;129;01min\u001b[39;00m \u001b[38;5;28mrange\u001b[39m(length):\n",
      "\u001b[0;31mTypeError\u001b[0m: object of type 'numpy.int64' has no len()"
     ]
    }
   ],
   "source": [
    "fill_random_bits(bits[0])\n",
    "fill_random_bits(bits[1])"
   ]
  },
  {
   "cell_type": "code",
   "execution_count": null,
   "id": "0c50a5af",
   "metadata": {},
   "outputs": [],
   "source": [
    "with open(\"data_bits\", \"wb\") as outfile:\n",
    "    pickle.dump(bits, outfile)"
   ]
  }
 ],
 "metadata": {
  "kernelspec": {
   "display_name": "Python 3",
   "language": "python",
   "name": "python3"
  },
  "language_info": {
   "codemirror_mode": {
    "name": "ipython",
    "version": 3
   },
   "file_extension": ".py",
   "mimetype": "text/x-python",
   "name": "python",
   "nbconvert_exporter": "python",
   "pygments_lexer": "ipython3",
   "version": "3.8.10"
  }
 },
 "nbformat": 4,
 "nbformat_minor": 5
}
