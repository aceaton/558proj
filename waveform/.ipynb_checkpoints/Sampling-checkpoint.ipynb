{
 "cells": [
  {
   "cell_type": "code",
   "execution_count": 18,
   "id": "f77ced83",
   "metadata": {},
   "outputs": [],
   "source": [
    "import pickle\n",
    "import numpy as np\n",
    "import matplotlib.pyplot as plt\n",
    "import csv\n",
    "import pandas as pd\n",
    "import random\n",
    "\n",
    "import seaborn\n",
    "\n",
    "from commpy.filters import rrcosfilter\n",
    "from scipy.signal import convolve\n",
    "\n",
    "from scipy.stats import kurtosis, moment"
   ]
  },
  {
   "cell_type": "code",
   "execution_count": 19,
   "id": "4a15f48b",
   "metadata": {},
   "outputs": [],
   "source": [
    "# specify the filename\n",
    "INNAME = 'wfm.csv'\n",
    "TRIALS = 100"
   ]
  },
  {
   "cell_type": "code",
   "execution_count": 20,
   "id": "b9981e86",
   "metadata": {},
   "outputs": [],
   "source": [
    "# open the generated waveform as a pandas object\n",
    "wave = pd.read_csv(INNAME, header=2)"
   ]
  },
  {
   "cell_type": "code",
   "execution_count": 22,
   "id": "8709d14b",
   "metadata": {},
   "outputs": [],
   "source": [
    "# get the wave components\n",
    "m1 = wave['Y1'].to_numpy()\n",
    "m2 = wave['Y4'].to_numpy()"
   ]
  },
  {
   "cell_type": "code",
   "execution_count": 38,
   "id": "b79afe7f",
   "metadata": {},
   "outputs": [],
   "source": [
    "# gets n samples spaced with period T, starting at a random time\n",
    "# makes sure the signal wraps properly\n",
    "def sample(signal, T, n, start = None):\n",
    "    idx = np.arange(n)\n",
    "    if (start==None):\n",
    "        start = random.randint(0,len(signal))\n",
    "    idx = idx*T+start\n",
    "    idx = idx%len(signal)\n",
    "    # doing the wrapping via modulus\n",
    "    return signal[idx]"
   ]
  },
  {
   "cell_type": "code",
   "execution_count": 44,
   "id": "12815643",
   "metadata": {
    "scrolled": false
   },
   "outputs": [
    {
     "data": {
      "text/plain": [
       "array([ 0.518194,  0.472553,  0.418612,  0.357523,  0.290561,  0.219098,\n",
       "        0.144574,  0.06847 , -0.007727, -0.082547])"
      ]
     },
     "execution_count": 44,
     "metadata": {},
     "output_type": "execute_result"
    }
   ],
   "source": [
    "# testing\n",
    "sample(m1,2,10)"
   ]
  },
  {
   "cell_type": "code",
   "execution_count": 73,
   "id": "d552e777",
   "metadata": {},
   "outputs": [],
   "source": [
    "# get a numpy array of m sets of samples\n",
    "def samples(signal,T,n,m):\n",
    "    l = signal.size\n",
    "#     print(l)\n",
    "    rands = np.random.randint(0,l,size=m)\n",
    "    samps = np.array([sample(signal,T,n,r) for r in rands])\n",
    "    return samps"
   ]
  },
  {
   "cell_type": "code",
   "execution_count": 133,
   "id": "1da09c33",
   "metadata": {},
   "outputs": [],
   "source": [
    "# get the mean of the desired moment of the samples\n",
    "def stats_no_var(signal,T,n,m,mom=None):\n",
    "    s = samples(signal,T,n,m)\n",
    "    if (mom!=None):\n",
    "        return np.mean(moment(s,mom,axis=1))\n",
    "    return [np.mean(moment(s,2,axis=1)),np.mean(moment(s,4,axis=1))]"
   ]
  },
  {
   "cell_type": "code",
   "execution_count": 135,
   "id": "453bfde3",
   "metadata": {},
   "outputs": [],
   "source": [
    "# get var of the desired moment of the samples\n",
    "def stats(signal,T,n,m,mom=None):\n",
    "    s = samples(signal,T,n,m)\n",
    "    if (mom!=None):\n",
    "        return np.var(moment(s,mom,axis=1))\n",
    "    return [np.var(moment(s,2,axis=1)),np.var(moment(s,4,axis=1))]"
   ]
  },
  {
   "cell_type": "code",
   "execution_count": 136,
   "id": "53d0a0e3",
   "metadata": {
    "scrolled": true
   },
   "outputs": [
    {
     "data": {
      "text/plain": [
       "0.0021674748853216714"
      ]
     },
     "execution_count": 136,
     "metadata": {},
     "output_type": "execute_result"
    }
   ],
   "source": [
    "stats(m1,T=10,n=3,m=100,mom=2)"
   ]
  },
  {
   "cell_type": "markdown",
   "id": "e8dde337",
   "metadata": {},
   "source": [
    "Simulation:\n",
    "Plotting over a range of n (number of samples) and T (period between the samples). Optionally add noise beforehand."
   ]
  },
  {
   "cell_type": "code",
   "execution_count": 101,
   "id": "af2c55e6",
   "metadata": {
    "scrolled": true
   },
   "outputs": [
    {
     "name": "stdout",
     "output_type": "stream",
     "text": [
      "2500\n",
      "5000\n",
      "7500\n"
     ]
    }
   ],
   "source": [
    "# DO THE SIM\n",
    "# get our samples and plot var for diff ns and ts\n",
    "NRANGE = 10000\n",
    "ninc = 250\n",
    "TRANGE = 100\n",
    "tinc = 2\n",
    "\n",
    "SIGNAL = m1\n",
    "M = 100\n",
    "\n",
    "# applying across range\n",
    "var = []\n",
    "kur = []\n",
    "for n in range(2*ninc,NRANGE,ninc):\n",
    "    a = []\n",
    "    b = []\n",
    "    if (n%(ninc*10)==0):\n",
    "        print(n)\n",
    "    for t in range(2*tinc,TRANGE,tinc):\n",
    "        ss = stats(m1,t,n,M)\n",
    "        a.append(ss[0])\n",
    "        b.append(ss[1])\n",
    "    var.append(np.array(a))\n",
    "    kur.append(np.array(b))\n",
    "var=np.array(var)\n",
    "kur=np.array(kur)"
   ]
  },
  {
   "cell_type": "code",
   "execution_count": 152,
   "id": "0c985d9d",
   "metadata": {
    "scrolled": false
   },
   "outputs": [
    {
     "data": {
      "image/png": "[encoded data removed]",
      "text/plain": [
       "<Figure size 432x288 with 1 Axes>"
      ]
     },
     "metadata": {
      "needs_background": "light"
     },
     "output_type": "display_data"
    },
    {
     "data": {
      "image/png": "[encoded data removed]",
      "text/plain": [
       "<Figure size 432x288 with 1 Axes>"
      ]
     },
     "metadata": {
      "needs_background": "light"
     },
     "output_type": "display_data"
    }
   ],
   "source": [
    "# Graph the var(kurtosis) across ns and Ts\n",
    "plt.imshow(kur, cmap='hot', interpolation='nearest')\n",
    "plt.xlabel('T (period)')\n",
    "plt.ylabel('n (number of samples)')\n",
    "plt.title('Var(Kurtosis) with varying number and spacing of samples')\n",
    "# fig, ax = plt.subplots()\n",
    "\n",
    "l = np.arange(2*ninc,NRANGE,ninc)\n",
    "w_ticks = 10\n",
    "ticks = np.arange(0,len(l)//w_ticks+1)\n",
    "ticks = ticks*w_ticks\n",
    "\n",
    "plt.yticks(ticks,l[ticks])\n",
    "\n",
    "l2 = np.arange(2*tinc,TRANGE,tinc)\n",
    "w2_ticks = 10\n",
    "ticks2 = np.arange(0,len(l2)//w2_ticks+1)\n",
    "ticks2 = ticks2*w2_ticks\n",
    "\n",
    "plt.xticks(ticks2,l2[ticks2])\n",
    "# ax.set_xticklabels(np.arange(2*ninc,NRANGE,ninc))\n",
    "# ticks,labels = plt.xticks()\n",
    "# plt.xticks(range(2*ninc,NRANGE,ninc))\n",
    "plt.show()\n",
    "\n",
    "# Graph the var(variance) across ns and Ts\n",
    "plt.imshow(var, cmap='hot', interpolation='nearest')\n",
    "plt.xlabel('T (period)')\n",
    "plt.ylabel('n (number of samples)')\n",
    "plt.title('Var(Variance) with varying number and spacing of samples')\n",
    "# fig, ax = plt.subplots()\n",
    "\n",
    "plt.yticks(ticks,l[ticks])\n",
    "plt.xticks(ticks2,l2[ticks2])\n",
    "\n",
    "# ax.set_xticklabels(np.arange(2*ninc,NRANGE,ninc))\n",
    "# ticks,labels = plt.xticks()\n",
    "# plt.xticks(range(2*ninc,NRANGE,ninc))\n",
    "plt.show()"
   ]
  },
  {
   "cell_type": "markdown",
   "id": "f25ebb0f",
   "metadata": {},
   "source": [
    "We see a very high variance when T = 46 or T = 92. This might be due to some artifact of the interaction of sampling time with length of the data set, though the signal has 523008 data points which is not a multiple of 46."
   ]
  },
  {
   "cell_type": "code",
   "execution_count": 156,
   "id": "fc259280",
   "metadata": {},
   "outputs": [
    {
     "name": "stdout",
     "output_type": "stream",
     "text": [
      "523008\n"
     ]
    }
   ],
   "source": [
    "print(len(m1))"
   ]
  },
  {
   "cell_type": "code",
   "execution_count": 149,
   "id": "c3850890",
   "metadata": {},
   "outputs": [
    {
     "data": {
      "image/png": "[encoded data removed]",
      "text/plain": [
       "<Figure size 432x288 with 1 Axes>"
      ]
     },
     "metadata": {
      "needs_background": "light"
     },
     "output_type": "display_data"
    },
    {
     "data": {
      "image/png": "[encoded data removed]",
      "text/plain": [
       "<Figure size 432x288 with 1 Axes>"
      ]
     },
     "metadata": {
      "needs_background": "light"
     },
     "output_type": "display_data"
    }
   ],
   "source": [
    "# LOOK AT THESE STATS OVER DIFFERENT MIXES\n",
    "test_t = 100\n",
    "test_n = 1000\n",
    "mom = 2\n",
    "M = 30\n",
    "\n",
    "a = []\n",
    "for i in range(-20,20):\n",
    "    b = []\n",
    "#     print(i)\n",
    "    for j in range(-20,20):\n",
    "        m = m1*j+m2*i\n",
    "        norm = np.linalg.norm(m)\n",
    "        b.append(stats_no_var(m,test_t,test_n,M,mom))\n",
    "    a.append(np.array(b))\n",
    "a = np.array(a)\n",
    "\n",
    "plt.yticks(np.arange(0,40,10),np.arange(-2,2,1))\n",
    "plt.xticks(np.arange(0,40,10),np.arange(-2,2,1))\n",
    "\n",
    "plt.title('Variance over different m1 and m2 coefficients')\n",
    "plt.imshow(a, cmap='hot', interpolation='nearest')\n",
    "plt.xlabel('m1 coefficient')\n",
    "plt.ylabel('m2 coefficient')\n",
    "plt.show()\n",
    "\n",
    "mom=4\n",
    "a = []\n",
    "for i in range(-20,20):\n",
    "    b = []\n",
    "#     print(i)\n",
    "    for j in range(-20,20):\n",
    "        m = m1*j+m2*i\n",
    "        norm = np.linalg.norm(m)\n",
    "        b.append(stats_no_var(m,test_t,test_n,M,mom))\n",
    "    a.append(np.array(b))\n",
    "a = np.array(a)\n",
    "\n",
    "plt.yticks(np.arange(0,40,10),np.arange(-2,2,1))\n",
    "plt.xticks(np.arange(0,40,10),np.arange(-2,2,1))\n",
    "\n",
    "plt.title('Kurtosis over different m1 and m2 coefficients')\n",
    "plt.imshow(a, cmap='hot', interpolation='nearest')\n",
    "plt.xlabel('m1 coefficient')\n",
    "plt.ylabel('m2 coefficient')\n",
    "plt.show()"
   ]
  },
  {
   "cell_type": "code",
   "execution_count": 14,
   "id": "24f9e80d",
   "metadata": {
    "scrolled": true
   },
   "outputs": [
    {
     "data": {
      "text/plain": [
       "[<matplotlib.lines.Line2D at 0x7f8546b4aa00>]"
      ]
     },
     "execution_count": 14,
     "metadata": {},
     "output_type": "execute_result"
    },
    {
     "data": {
      "image/png": "[encoded data removed]",
      "text/plain": [
       "<Figure size 432x288 with 1 Axes>"
      ]
     },
     "metadata": {
      "needs_background": "light"
     },
     "output_type": "display_data"
    }
   ],
   "source": [
    "# graph var and kur at different sampling rates and periods\n",
    "num_samp = 10000\n",
    "samp_gap = 25\n",
    "\n",
    "for "
   ]
  },
  {
   "cell_type": "code",
   "execution_count": null,
   "id": "95042644",
   "metadata": {},
   "outputs": [],
   "source": []
  }
 ],
 "metadata": {
  "kernelspec": {
   "display_name": "Python 3",
   "language": "python",
   "name": "python3"
  },
  "language_info": {
   "codemirror_mode": {
    "name": "ipython",
    "version": 3
   },
   "file_extension": ".py",
   "mimetype": "text/x-python",
   "name": "python",
   "nbconvert_exporter": "python",
   "pygments_lexer": "ipython3",
   "version": "3.8.8"
  }
 },
 "nbformat": 4,
 "nbformat_minor": 5
}
