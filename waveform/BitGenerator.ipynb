{
 "cells": [
  {
   "cell_type": "code",
   "execution_count": 1,
   "id": "1ad18091",
   "metadata": {},
   "outputs": [],
   "source": [
    "import pickle\n",
    "import random\n",
    "import numpy as np"
   ]
  },
  {
   "cell_type": "code",
   "execution_count": 2,
   "id": "fee7a040",
   "metadata": {},
   "outputs": [],
   "source": [
    "NUM_BITS = 2**12 # More than could use in most cases"
   ]
  },
  {
   "cell_type": "code",
   "execution_count": 3,
   "id": "dfe1e144",
   "metadata": {},
   "outputs": [],
   "source": [
    "bits = np.empty([2, NUM_BITS])"
   ]
  },
  {
   "cell_type": "code",
   "execution_count": 4,
   "id": "ce98f5d0",
   "metadata": {},
   "outputs": [],
   "source": [
    "def fill_random_bits(array):\n",
    "    length = len(array)\n",
    "    number = random.getrandbits(length)\n",
    "    for i in range(length):\n",
    "        array[i] = int(number & 0x1)\n",
    "        number >>= 1"
   ]
  },
  {
   "cell_type": "code",
   "execution_count": 5,
   "id": "afc4ef83",
   "metadata": {},
   "outputs": [],
   "source": [
    "fill_random_bits(bits[0])\n",
    "fill_random_bits(bits[1])"
   ]
  },
  {
   "cell_type": "code",
   "execution_count": 6,
   "id": "c972fd44",
   "metadata": {},
   "outputs": [],
   "source": [
    "with open(\"data_bits\", \"wb\") as outfile:\n",
    "    pickle.dump(bits, outfile)"
   ]
  }
 ],
 "metadata": {
  "kernelspec": {
   "display_name": "Python 3",
   "language": "python",
   "name": "python3"
  },
  "language_info": {
   "codemirror_mode": {
    "name": "ipython",
    "version": 3
   },
   "file_extension": ".py",
   "mimetype": "text/x-python",
   "name": "python",
   "nbconvert_exporter": "python",
   "pygments_lexer": "ipython3",
   "version": "3.8.8"
  }
 },
 "nbformat": 4,
 "nbformat_minor": 5
}
